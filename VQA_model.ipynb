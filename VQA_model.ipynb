{
 "cells": [
  {
   "cell_type": "markdown",
   "metadata": {},
   "source": [
    "# Pipeline for Training & Evaluating model"
   ]
  },
  {
   "cell_type": "code",
   "execution_count": 188,
   "metadata": {
    "collapsed": false
   },
   "outputs": [],
   "source": [
    "# %%writefile pipeline.py\n",
    "\n",
    "import numpy as np\n",
    "import scipy.io\n",
    "import sys\n",
    "import argparse\n",
    "import os\n",
    "from time import time\n",
    "from keras.models import Sequential\n",
    "from keras.layers.core import Dense, Activation, Merge, Dropout, Reshape\n",
    "from keras.layers.recurrent import *\n",
    "\n",
    "from keras.utils import np_utils, generic_utils\n",
    "from keras.callbacks import ModelCheckpoint, RemoteMonitor\n",
    "from keras.models import model_from_json\n",
    "from keras.optimizers import *\n",
    "from sklearn.externals import joblib\n",
    "from sklearn import preprocessing\n",
    "\n",
    "from spacy.en import English\n",
    "\n",
    "from scripts.utils import grouper, selectFrequentAnswers\n",
    "from scripts.features import get_answers_matrix, get_questions_tensor_timeseries, get_images_matrix\n",
    "from models.CNN.VGG import VGG_16\n",
    "from keras.utils.visualize_util import plot\n",
    "import pandas as pd\n",
    "\n",
    "def train(model_structure,\n",
    "          model_weight,\n",
    "          model_loss_record_file,\n",
    "          num_hidden_units_mlp = 1024,\n",
    "          num_hidden_units_rnn = 512,\n",
    "          num_hidden_layers_mlp = 3,\n",
    "          num_hidden_layers_rnn = 1,\n",
    "          dropout = 0.5,\n",
    "          activation_mlp = 'tanh',\n",
    "          num_epochs = 10,\n",
    "          model_save_interval = 5,\n",
    "          batch_size = 128,\n",
    "          model_type = \"LSTM\",\n",
    "          optimizer_type = 'rmsprop'):\n",
    "    '''Training with extracted image features'''\n",
    "    # Hyper parameters settings: \n",
    "    # (word dimension, image dimension, max len of words in question)\n",
    "    word_vec_dim= 300\n",
    "    img_dim = 4096\n",
    "    max_len = 30\n",
    "    nb_classes = 1000\n",
    "    #get the data\n",
    "    questions_train = open('data/preprocessed/questions_train2014.txt', 'r').read().decode('utf8').splitlines()\n",
    "    questions_lengths_train = open('data/preprocessed/questions_lengths_train2014.txt', 'r').read().decode('utf8').splitlines()\n",
    "    answers_train = open('data/preprocessed/answers_train2014_modal.txt', 'r').read().decode('utf8').splitlines()\n",
    "    images_train = open('data/preprocessed/images_train2014.txt', 'r').read().decode('utf8').splitlines()\n",
    "    vgg_model_path = 'features/coco/vgg_feats.mat'\n",
    "\n",
    "    max_answers = nb_classes\n",
    "    questions_train, answers_train, images_train = selectFrequentAnswers(questions_train,answers_train,images_train, max_answers)\n",
    "    questions_lengths_train, questions_train, answers_train, images_train = (list(t) for t in zip(*sorted(zip(questions_lengths_train, questions_train, answers_train, images_train))))\n",
    "\n",
    "    #encode the answers\n",
    "    labelencoder = preprocessing.LabelEncoder()\n",
    "    labelencoder.fit(answers_train)\n",
    "    nb_classes = len(list(labelencoder.classes_))\n",
    "    joblib.dump(labelencoder,'models/labelencoder.pkl')\n",
    "\n",
    "    #Image Model\n",
    "    image_model = Sequential()\n",
    "    image_model.add(Reshape(input_shape = (img_dim,), dims=(img_dim,)))\n",
    "    \n",
    "    # Design choice for language model \n",
    "    if model_type.lower() == 'lstm':\n",
    "        RNN = LSTM\n",
    "    elif model_type.lower() == 'gru':\n",
    "        RNN = GRU\n",
    "    # Design choice for optimizor\n",
    "    if optimizer_type.lower() == \"sgd\":\n",
    "        optimizer = SGD(momentum=0.9, nesterov=True)\n",
    "    elif optimizer_type.lower() == \"rmsprop\":\n",
    "        optimizer = RMSprop()\n",
    "    \n",
    "    #language model\n",
    "    language_model = Sequential()\n",
    "    if num_hidden_layers_rnn == 1:\n",
    "        language_model.add(RNN(output_dim = num_hidden_units_rnn, return_sequences=False, input_shape=(max_len, word_vec_dim)))\n",
    "    else:\n",
    "        language_model.add(RNN(output_dim = num_hidden_units_rnn, return_sequences=True, input_shape=(max_len, word_vec_dim)))\n",
    "        for i in xrange(num_hidden_layers_rnn-2):\n",
    "            language_model.add(RNN(output_dim = num_hidden_units_rnn, return_sequences=True))\n",
    "        language_model.add(RNN(output_dim = num_hidden_units_rnn, return_sequences=False))\n",
    "    \n",
    "    #VQA model: merge language model and image model\n",
    "    model = Sequential()\n",
    "    model.add(Merge([language_model, image_model], mode='concat', concat_axis=1))\n",
    "    for i in xrange(num_hidden_layers_mlp):\n",
    "        model.add(Dense(num_hidden_units_mlp, init='uniform'))\n",
    "        model.add(Activation(activation_mlp))\n",
    "        model.add(Dropout(dropout))\n",
    "    model.add(Dense(nb_classes, activation = \"softmax\"))\n",
    "\n",
    "    # Dump the model to file\n",
    "    json_string = model.to_json()\n",
    "    open(model_structure, 'w').write(json_string)\n",
    "\n",
    "    # Compile the model\n",
    "    model.compile(loss='categorical_crossentropy', optimizer=optimizer)\n",
    "    print 'Compilation done'\n",
    "\n",
    "    # Load the pre extracted features\n",
    "    features_struct = scipy.io.loadmat(vgg_model_path)\n",
    "    VGGfeatures = features_struct['feats']\n",
    "\n",
    "    # Mapping to corresponding image\n",
    "    image_ids = open('features/coco_vgg_IDMap.txt').read().splitlines()\n",
    "    img_map = {}\n",
    "    for ids in image_ids:\n",
    "        id_split = ids.split()\n",
    "        img_map[id_split[0]] = int(id_split[1])\n",
    "\n",
    "    nlp = English()\n",
    "    print 'loaded word2vec features...'\n",
    "    \n",
    "    ## training\n",
    "    print 'Training started...'\n",
    "    losses = []\n",
    "    for k in xrange(num_epochs):\n",
    "        #progress bar when training\n",
    "        progbar = generic_utils.Progbar(len(questions_train))\n",
    "\n",
    "        for qu_batch,an_batch,im_batch in zip(grouper(questions_train, batch_size, fillvalue=questions_train[-1]), \n",
    "                                                grouper(answers_train, batch_size, fillvalue=answers_train[-1]), \n",
    "                                                grouper(images_train, batch_size, fillvalue=images_train[-1])):\n",
    "            timesteps = len(nlp(qu_batch[-1])) #questions sorted in descending order of length\n",
    "            X_q_batch = get_questions_tensor_timeseries(qu_batch, nlp, timesteps)\n",
    "            X_i_batch = get_images_matrix(im_batch, img_map, VGGfeatures)\n",
    "            Y_batch = get_answers_matrix(an_batch, labelencoder)\n",
    "            loss = model.train_on_batch([X_q_batch, X_i_batch], Y_batch)\n",
    "            losses.append(loss[0].item(0))\n",
    "            progbar.add(batch_size, values=[(\"train loss\", loss[0].item(0))])\n",
    "\n",
    "        if k%model_save_interval == 0:\n",
    "            model.save_weights(model_weight, overwrite=True)\n",
    "\n",
    "    model.save_weights(model_weight, overwrite=True)\n",
    "    with open(model_loss_record_file, 'w') as f:\n",
    "        f.write(\",\".join(map(str, losses)))\n",
    "    # %%writefile evaluate_LSTM_group.py\n",
    "\n",
    "\n",
    "\n",
    "\n",
    "def get_image_model(CNN_weights_file_name):\n",
    "    ''' Takes the CNN weights file, and returns the VGG model update \n",
    "    with the weights. Requires the file VGG.py inside models/CNN '''\n",
    "\n",
    "    image_model = VGG_16(CNN_weights_file_name)\n",
    "\n",
    "    # this is standard VGG 16 without the last two layers\n",
    "    sgd = SGD(lr=0.1, decay=1e-6, momentum=0.9, nesterov=True)\n",
    "    # one may experiment with \"adam\" optimizer, but the loss function for\n",
    "    # this kind of task is pretty standard\n",
    "    image_model.compile(optimizer=sgd, loss='categorical_crossentropy')\n",
    "    return image_model\n",
    "    \n",
    "def get_image_features(image_file_name, CNN_weights_file_name):\n",
    "    ''' Runs the given image_file to VGG 16 model and returns the \n",
    "    weights (filters) as a 1, 4096 dimension vector '''\n",
    "    image_features = np.zeros((1, 4096)) # Dimension of 4096  Comes from last layer of VGG Model\n",
    "    \n",
    "    # VGG is trained in 224 x 224 images - every image will be reshaped to this shape(1, 3, 224, 224)\n",
    "    im = scipy.misc.imresize(scipy.misc.imread(image_file_name), (224, 224))\n",
    "    im = im.transpose((2,0,1)) # convert the image to RGBA\n",
    "    im = np.expand_dims(im, axis=0) \n",
    "\n",
    "    image_features[0,:] = get_image_model(CNN_weights_file_name).predict(im)[0]\n",
    "    return image_features\n",
    "\n",
    "def get_image_features_batch(image_batch, CNN_weights_file_name):\n",
    "    batch_size = len(image_batch)\n",
    "    image_feature_batch = np.zeros((batch_size, 4096))\n",
    "    for i in range(batch_size):\n",
    "        image_feature_batch[i,:] = get_image_features(image_batch[i], CNN_weights_file_name)\n",
    "    return image_feature_batch\n",
    "\n",
    "\n",
    "def evaluate(model = 'models/lstm_1_num_hidden_units_lstm_512_num_hidden_units_mlp_1024_num_hidden_layers_mlp_3_num_hidden_layers_lstm_1.json',\n",
    "         weights = 'models/lstm_1_num_hidden_units_lstm_512_num_hidden_units_mlp_1024_num_hidden_layers_mlp_3_num_hidden_layers_lstm_1_epoch_075.hdf5',\n",
    "           images_dir ='data/evaluate/',\n",
    "            results = 'results/results.txt'):\n",
    "    CNN_weights_file_name   = 'models/CNN/vgg16_weights.h5'    \n",
    "    questions_train = open('data/preprocessed/questions_train2014.txt', \n",
    "                        'r').read().decode('utf8').splitlines()\n",
    "#     questions_lengths_train = open('data/preprocessed/questions_lengths_train2015.txt', \n",
    "#                                 'r').read().decode('utf8').splitlines()\n",
    "    answers_train = open('data/preprocessed/answers_train2014_all.txt', \n",
    "                        'r').read().decode('utf8').splitlines()\n",
    "    image_ids = open('data/preprocessed/images_train2014.txt', \n",
    "                        'r').read().decode('utf8').splitlines()\n",
    "    \n",
    "\n",
    "            \n",
    "    # Create mapping from image_id to image_file_path\n",
    "    image_file_id_Map = {}\n",
    "    for image_name in os.listdir(images_dir):     \n",
    "        if image_name[0] != \".\":\n",
    "            coco_id = str(int(image_name[-16:-4]))\n",
    "            image_file_id_Map[coco_id] = images_dir + image_name\n",
    "    indexs = []\n",
    "    for image_id in image_file_id_Map.keys():\n",
    "        indexs.append(image_ids.index(image_id))\n",
    "        \n",
    "    selected_questions = [questions_train[index] for index in indexs]\n",
    "    selected_answers = [answers_train[index] for index in indexs]\n",
    "    selected_image_ids = [image_ids[index] for index in indexs]\n",
    "    \n",
    "    \n",
    "    # Create a list image file path same order corresponding with image ids\n",
    "    image_file_pathes = []\n",
    "    for image_id in selected_image_ids:\n",
    "        image_file_pathes.append(image_file_id_Map[image_id])\n",
    "        \n",
    "    image_file_pathes, selected_questions, selected_answers,selected_image_ids = (list(t) for t in zip(*sorted(zip(image_file_pathes, selected_questions, selected_answers, selected_image_ids))))\n",
    "\n",
    "\n",
    "    \n",
    "    if not os.path.exists(\"data/feature_dump/image_feature_dump.pkl\"):\n",
    "        print(\"Image feature file does not exist, let's create one....\")\n",
    "        samplesize = len(image_file_pathes)\n",
    "        matrix = np.zeros((samplesize, 4096))\n",
    "        for i in range(samplesize):\n",
    "            image_file = image_file_pathes[i]\n",
    "            matrix[i,:] = get_image_features(image_file, CNN_weights_file_name)\n",
    "        matrix.dump(\"data/feature_dump/image_feature_dump.pkl\") \n",
    "    else:\n",
    "        matrix = np.load(\"data/feature_dump/image_feature_dump.pkl\")\n",
    "        \n",
    "    # load the model\n",
    "    model = model_from_json(open(model).read())\n",
    "    model.load_weights(weights)\n",
    "    model.compile(loss='categorical_crossentropy', optimizer='rmsprop')\n",
    "    nlp = English()\n",
    "    \n",
    "    labelencoder = joblib.load('models/labelencoder.pkl')\n",
    "    \n",
    "    # get prediction results and save it in answer_list\n",
    "\n",
    "    print(\"Starting evaluation....\")\n",
    "    answer_list = []\n",
    "    for i, image_file, question in zip(range(len(image_file_pathes)), image_file_pathes, selected_questions):\n",
    "        if not os.path.exists(\"data/evaluate/image_feature_dump.pkl\"):\n",
    "            X_i = get_image_features(image_file, CNN_weights_file_name)\n",
    "        else:\n",
    "            X_i = matrix[i]\n",
    "        \n",
    "        timesteps = len(nlp(question))\n",
    "        X_q = get_questions_tensor_timeseries([question], nlp, timesteps)\n",
    "\n",
    "        X = [X_q, X_i]\n",
    "        y_predict = model.predict(X, verbose=0)\n",
    "        print image_file\n",
    "        #for label in reversed(np.argsort(y_predict)[0,-10:]):\n",
    "            #print str(round(y_predict[0,label]*100,2)).zfill(5), \"% \", labelencoder.inverse_transform(label)\n",
    "        answers = reversed(np.argsort(y_predict)[0,-1:])\n",
    "        answer_coverage = [labelencoder.inverse_transform(answer) for answer in answers]\n",
    "        answer_list.append(answer_coverage)\n",
    "            \n",
    "    # Calcluate performance       \n",
    "    total = 0\n",
    "    correct_val=0.0\n",
    "    f1 = open(results, 'w')\n",
    "    for answer_coverage, truth, question, image in zip(answer_list, selected_answers, selected_questions, selected_image_ids):\n",
    "        temp_count=0\n",
    "        for _truth in truth.split(';'):\n",
    "            if _truth in answer_coverage:\n",
    "                temp_count+=1\n",
    "\n",
    "        if temp_count>2:\n",
    "            correct_val+=1\n",
    "        else:\n",
    "            correct_val+=float(temp_count)/3\n",
    "\n",
    "        total+=1\n",
    "\n",
    "    f1.write(str(correct_val/total))\n",
    "    f1.close()\n",
    "    print 'Final Accuracy on the validation set is', correct_val/total\n",
    "\n",
    "def pipline():\n",
    "    print(\"pip line started...\")\n",
    "    df = pd.read_csv(\"pipeline.csv\")\n",
    "\n",
    "    model_structure = df[\"model_struct\"]\n",
    "    model_weight = df[\"model_weight\"]\n",
    "    loss = df[\"loss\"]\n",
    "    evaluate_output = df[\"evaluate\"]\n",
    "\n",
    "    print(\"training pipline\")\n",
    "    print(\"Start training...\")\n",
    "    start = time()\n",
    "    train(model_type = \"LSTM\",optimizer_type = 'rmsprop', model_structure = model_structure[0], model_weight = model_weight[0], model_loss_record_file = loss[0])\n",
    "    end = time()\n",
    "    print(\"training took {0:.2f} minutes\".format((end-start)/60))\n",
    "    print(\"finished one...\")\n",
    "    start = time()\n",
    "    train(model_type = \"GRU\",optimizer_type = 'rmsprop', model_structure = model_structure[1], model_weight = model_weight[1], model_loss_record_file = loss[1])\n",
    "    end = time()\n",
    "    print(\"training took {0:.2f} minutes\".format((end-start)/60))\n",
    "    print(\"finished one...\")\n",
    "    start = time()\n",
    "    train(model_type = \"LSTM\",optimizer_type = 'SGD', model_structure = model_structure[2], model_weight = model_weight[2], model_loss_record_file = loss[2])\n",
    "    end = time()\n",
    "    print(\"training took {0:.2f} minutes\".format((end-start)/60))\n",
    "    print(\"finished all...\")\n",
    "\n",
    "\n",
    "    evaluate pipline \n",
    "    for i in range(len(evaluate_output)):\n",
    "        evaluate(model = model_structure[i],\n",
    "                 weights = model_weight[i],\n",
    "                 results = evaluate_output[i]\n",
    "                )\n",
    "    \n",
    "    \n",
    "if __name__ == \"__main__\":\n",
    "    pipline()"
   ]
  },
  {
   "cell_type": "code",
   "execution_count": 23,
   "metadata": {
    "collapsed": false
   },
   "outputs": [
    {
     "name": "stdout",
     "output_type": "stream",
     "text": [
      "Overwriting pipeline.csv\n"
     ]
    }
   ],
   "source": [
    "%%writefile pipeline.csv\n",
    "model_struct,model_weight,loss,evaluate\n",
    "\"models/model1.json\",\"models/model1.hdf5\",\"models/loss1.txt\",\"results/m1.txt\"\n",
    "\"models/model2.json\",\"models/model2.hdf5\",\"models/loss2.txt\",\"results/m2.txt\"\n",
    "\"models/model3.json\",\"models/model3.hdf5\",\"models/loss3.txt\",\"results/m3.txt\""
   ]
  },
  {
   "cell_type": "markdown",
   "metadata": {},
   "source": [
    "## Training"
   ]
  },
  {
   "cell_type": "code",
   "execution_count": 170,
   "metadata": {
    "collapsed": false
   },
   "outputs": [
    {
     "name": "stdout",
     "output_type": "stream",
     "text": [
      "pip line started...\n"
     ]
    }
   ],
   "source": [
    "\n",
    "print(\"pip line started...\")\n",
    "df = pd.read_csv(\"pipeline.csv\")\n",
    "\n",
    "model_structure = df[\"model_struct\"]\n",
    "model_weight = df[\"model_weight\"]\n",
    "loss = df[\"loss\"]\n",
    "evaluate_output = df[\"evaluate\"]\n",
    "\n",
    "training pipline\n",
    "print(\"Start training...\")\n",
    "train(model_type = \"LSTM\",optimizer_type = 'rmsprop', model_structure = model_structure[0], model_weight = model_weight[0], model_loss_record_file = loss[0])\n",
    "print(\"finished one...\")\n",
    "train(model_type = \"GRU\",optimizer_type = 'rmsprop', model_structure = model_structure[1], model_weight = model_weight[1], model_loss_record_file = loss[1])\n",
    "print(\"finished one...\")\n",
    "train(model_type = \"LSTM\",optimizer_type = 'SGD', model_structure = model_structure[2], model_weight = model_weight[2], model_loss_record_file = loss[2])\n",
    "print(\"finished all...\")\n"
   ]
  },
  {
   "cell_type": "markdown",
   "metadata": {},
   "source": [
    "## Evaluating"
   ]
  },
  {
   "cell_type": "code",
   "execution_count": 192,
   "metadata": {
    "collapsed": false
   },
   "outputs": [],
   "source": [
    "#evaluate pipline \n",
    "for i in range(len(evaluate_output)):\n",
    "    evaluate(model = model_structure[i],\n",
    "             weights = model_weight[i],\n",
    "             results = evaluate_output[i]\n",
    "            )"
   ]
  },
  {
   "cell_type": "code",
   "execution_count": 179,
   "metadata": {
    "collapsed": false
   },
   "outputs": [
    {
     "data": {
      "text/plain": [
       "[0.219047619048, 0.495238095238, 0.0571428571429]"
      ]
     },
     "execution_count": 179,
     "metadata": {},
     "output_type": "execute_result"
    }
   ],
   "source": [
    "[float(open(file_i, \"r\").read().decode('utf8').splitlines()[0])  for file_i in evaluate_output]"
   ]
  },
  {
   "cell_type": "code",
   "execution_count": 180,
   "metadata": {
    "collapsed": false
   },
   "outputs": [],
   "source": [
    "val = [float(open(file_i, \"r\").read().decode('utf8').splitlines()[0])  for file_i in evaluate_output]\n",
    "\n",
    "model_dic = {\"model\": [\"LSTM+RMSprop\", \"GRU+RMSprop\", \"LSTM+SGD\"],\"val\":val}\n",
    "eva_df = pd.DataFrame.from_dict(model_dic)"
   ]
  },
  {
   "cell_type": "code",
   "execution_count": 177,
   "metadata": {
    "collapsed": false
   },
   "outputs": [],
   "source": [
    "import pandas as pd\n",
    "five_ans_vals = {\"model\": [\"LSTM+RMSpop\", \"GRU+RMSprop\", \"LSTM+SGD\"], \"val\":[0.542857, 0.495238, 0.076190]}\n",
    "five_ans_df = pd.DataFrame.from_dict(five_ans_vals)"
   ]
  },
  {
   "cell_type": "code",
   "execution_count": 190,
   "metadata": {
    "collapsed": true
   },
   "outputs": [],
   "source": [
    "five_ans_df.to_pickle(\"five.pkl\")"
   ]
  },
  {
   "cell_type": "code",
   "execution_count": 178,
   "metadata": {
    "collapsed": false
   },
   "outputs": [
    {
     "data": {
      "text/html": [
       "<div>\n",
       "<table border=\"1\" class=\"dataframe\">\n",
       "  <thead>\n",
       "    <tr style=\"text-align: right;\">\n",
       "      <th></th>\n",
       "      <th>model</th>\n",
       "      <th>val</th>\n",
       "    </tr>\n",
       "  </thead>\n",
       "  <tbody>\n",
       "    <tr>\n",
       "      <th>0</th>\n",
       "      <td>LSTM+RMSpop</td>\n",
       "      <td>0.542857</td>\n",
       "    </tr>\n",
       "    <tr>\n",
       "      <th>1</th>\n",
       "      <td>GRU+RMSprop</td>\n",
       "      <td>0.495238</td>\n",
       "    </tr>\n",
       "    <tr>\n",
       "      <th>2</th>\n",
       "      <td>LSTM+SGD</td>\n",
       "      <td>0.076190</td>\n",
       "    </tr>\n",
       "  </tbody>\n",
       "</table>\n",
       "</div>"
      ],
      "text/plain": [
       "         model       val\n",
       "0  LSTM+RMSpop  0.542857\n",
       "1  GRU+RMSprop  0.495238\n",
       "2     LSTM+SGD  0.076190"
      ]
     },
     "execution_count": 178,
     "metadata": {},
     "output_type": "execute_result"
    }
   ],
   "source": [
    "five_ans_df"
   ]
  },
  {
   "cell_type": "code",
   "execution_count": 182,
   "metadata": {
    "collapsed": false
   },
   "outputs": [
    {
     "data": {
      "text/html": [
       "<div>\n",
       "<table border=\"1\" class=\"dataframe\">\n",
       "  <thead>\n",
       "    <tr style=\"text-align: right;\">\n",
       "      <th></th>\n",
       "      <th>model</th>\n",
       "      <th>val</th>\n",
       "    </tr>\n",
       "  </thead>\n",
       "  <tbody>\n",
       "    <tr>\n",
       "      <th>0</th>\n",
       "      <td>LSTM+RMSprop</td>\n",
       "      <td>0.219048</td>\n",
       "    </tr>\n",
       "    <tr>\n",
       "      <th>1</th>\n",
       "      <td>GRU+RMSprop</td>\n",
       "      <td>0.495238</td>\n",
       "    </tr>\n",
       "    <tr>\n",
       "      <th>2</th>\n",
       "      <td>LSTM+SGD</td>\n",
       "      <td>0.057143</td>\n",
       "    </tr>\n",
       "  </tbody>\n",
       "</table>\n",
       "</div>"
      ],
      "text/plain": [
       "          model       val\n",
       "0  LSTM+RMSprop  0.219048\n",
       "1   GRU+RMSprop  0.495238\n",
       "2      LSTM+SGD  0.057143"
      ]
     },
     "execution_count": 182,
     "metadata": {},
     "output_type": "execute_result"
    }
   ],
   "source": [
    "eva_df"
   ]
  },
  {
   "cell_type": "code",
   "execution_count": 181,
   "metadata": {
    "collapsed": false
   },
   "outputs": [],
   "source": [
    "eva_df.to_pickle(\"eva.pkl\")"
   ]
  },
  {
   "cell_type": "code",
   "execution_count": 193,
   "metadata": {
    "collapsed": false
   },
   "outputs": [
    {
     "data": {
      "image/png": "[encoded data removed]",
      "text/plain": [
       "<matplotlib.figure.Figure at 0x13d78acd0>"
      ]
     },
     "metadata": {},
     "output_type": "display_data"
    },
    {
     "data": {
      "image/png": "[encoded data removed]",
      "text/plain": [
       "<matplotlib.figure.Figure at 0x1392c21d0>"
      ]
     },
     "metadata": {},
     "output_type": "display_data"
    },
    {
     "data": {
      "image/png": "[encoded data removed]",
      "text/plain": [
       "<matplotlib.figure.Figure at 0x144098e90>"
      ]
     },
     "metadata": {},
     "output_type": "display_data"
    }
   ],
   "source": [
    "%matplotlib inline\n",
    "import seaborn as sns\n",
    "\n",
    "\n",
    "def cumulative_sum(losses):\n",
    "    cumulative = 0\n",
    "    running_avg = []\n",
    "\n",
    "    for i in range(len(losses)):\n",
    "        cumulative += losses[i]\n",
    "        running_avg.append(cumulative/float(i+1))\n",
    "    return running_avg\n",
    "\n",
    "\n",
    "sns.set_style(\"darkgrid\")\n",
    "\n",
    "for i in range(len(loss)):\n",
    "    losses_file = open(loss[i], \"r\").read()\n",
    "    losses = map(float, losses_file.split(\",\"))\n",
    "    loss_df = pd.DataFrame(cumulative_sum(losses), columns=[\"loss\"])\n",
    "# Show the results of a linear regression within each dataset\n",
    "    sns.plt.figure(figsize=(15,5))\n",
    "    sns.pointplot(x = loss_df.index, y=\"loss\", data=loss_df, markers='.')\n",
    "    sns.plt.xticks(np.arange(min(loss_df.index), max(loss_df.index), 100))\n",
    "    sns.plt.show()"
   ]
  }
 ],
 "metadata": {
  "hide_input": false,
  "kernelspec": {
   "display_name": "Python 2",
   "language": "python",
   "name": "python2"
  },
  "language_info": {
   "codemirror_mode": {
    "name": "ipython",
    "version": 2
   },
   "file_extension": ".py",
   "mimetype": "text/x-python",
   "name": "python",
   "nbconvert_exporter": "python",
   "pygments_lexer": "ipython2",
   "version": "2.7.12"
  }
 },
 "nbformat": 4,
 "nbformat_minor": 0
}
